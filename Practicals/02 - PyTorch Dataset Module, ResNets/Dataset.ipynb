{
  "cells": [
    {
      "cell_type": "markdown",
      "metadata": {
        "id": "xcCdPGVjaLtL"
      },
      "source": [
        " PyTorch provides two data primitives: `torch.utils.data.DataLoader` and `torch.utils.data.Dataset` that allow you to use pre-loaded datasets as well as your own data. `Dataset `stores the samples and their corresponding labels, and `DataLoader` wraps an iterable around the Dataset to enable easy access to the samples."
      ]
    },
    {
      "cell_type": "code",
      "execution_count": 1,
      "metadata": {
        "id": "FO7Znt8jZsVu"
      },
      "outputs": [],
      "source": [
        "import random\n",
        "\n",
        "import matplotlib.pyplot as plt\n",
        "import numpy as np\n",
        "import torch\n",
        "import torchvision.transforms as transforms\n",
        "from PIL import Image\n",
        "from torch.utils.data import DataLoader, Dataset\n",
        "from torchvision import datasets\n",
        "from torchvision.transforms import ToTensor\n",
        "\n",
        "from torch.utils.data import random_split, DataLoader\n",
        "from torchvision.datasets import CIFAR10"
      ]
    },
    {
      "cell_type": "markdown",
      "metadata": {
        "id": "CHwgL_9PbDnu"
      },
      "source": [
        "## Built-in dataset\n",
        "\n",
        "[Image Datasets](https://pytorch.org/vision/stable/datasets.html), [Text Datasets](https://pytorch.org/text/stable/datasets.html), and [Audio Datasets](https://pytorch.org/audio/stable/datasets.html)\n",
        "\n",
        "Torchvision provides many built-in datasets in the `torchvision.datasets` module, as well as utility classes for building your own datasets.\n",
        "\n",
        "All datasets are subclasses of `torch.utils.data.Dataset` i.e, they have `__getitem__` and `__len__` methods implemented.\n",
        "\n",
        "\n",
        "\n"
      ]
    },
    {
      "cell_type": "markdown",
      "metadata": {
        "id": "eSFV4dSriVIi"
      },
      "source": [
        "Recall from last lecture:\n",
        "\n",
        "CLASS `torch.utils.data.Dataset(*args, **kwds)`\n",
        "\n",
        "An abstract class representing a Dataset.\n",
        "\n",
        "All datasets that represent a map from keys to data samples should subclass it. All subclasses\n",
        "\n",
        "*   should overwrite `__getitem__()`, supporting fetching a data\n",
        "sample for a given key.\n",
        "*   optionally overwrite `__len__()`, which is expected to return the size of the dataset\n",
        "* optionally implement `__getitems__()`, for speedup batched samples loading."
      ]
    },
    {
      "cell_type": "markdown",
      "metadata": {
        "id": "yJSL90xNiTtq"
      },
      "source": [
        "\n",
        "Hence, they can all be passed to a `torch.utils.data.DataLoader` which can load multiple samples in parallel using torch.multiprocessing workers."
      ]
    },
    {
      "cell_type": "markdown",
      "metadata": {
        "id": "ZZsMz9vCqAgY"
      },
      "source": [
        "## Transform\n",
        "\n",
        "Let's first define some traqnsformation we can do on the downloaded images.\n",
        "\n",
        "Fro more information visit [torchvision.transform ](https://pytorch.org/vision/0.9/transforms.html)\n",
        "\n",
        "Here we will just  apply to simple transofrmation to our PIL images:\n",
        "\n",
        "\n",
        "1.   Transforms on PIL Image and torch.Tensor\n",
        "2.   Normalize a tensor image with mean and standard deviation\n",
        "\n"
      ]
    },
    {
      "cell_type": "code",
      "execution_count": 2,
      "metadata": {
        "id": "5lGy1dMZpwDo"
      },
      "outputs": [],
      "source": [
        "transform = transforms.Compose(\n",
        "    [transforms.ToTensor(),\n",
        "     transforms.Normalize((0.5, 0.5, 0.5), (0.5, 0.5, 0.5))])"
      ]
    },
    {
      "cell_type": "markdown",
      "metadata": {
        "id": "G4aIjUZDrCOG"
      },
      "source": [
        "## Load the data"
      ]
    },
    {
      "cell_type": "code",
      "execution_count": 3,
      "metadata": {
        "colab": {
          "base_uri": "https://localhost:8080/"
        },
        "id": "xGBq3JvVeUHa",
        "outputId": "d4dafebf-c39c-4c46-8468-6580ee94d6ff"
      },
      "outputs": [
        {
          "name": "stdout",
          "output_type": "stream",
          "text": [
            "Downloading https://www.cs.toronto.edu/~kriz/cifar-10-python.tar.gz to ./data\\cifar-10-python.tar.gz\n"
          ]
        },
        {
          "name": "stderr",
          "output_type": "stream",
          "text": [
            "100%|██████████| 170498071/170498071 [06:58<00:00, 407455.54it/s] \n"
          ]
        },
        {
          "name": "stdout",
          "output_type": "stream",
          "text": [
            "Extracting ./data\\cifar-10-python.tar.gz to ./data\n",
            "Files already downloaded and verified\n"
          ]
        }
      ],
      "source": [
        "trainset = datasets.CIFAR10(root='./data',\n",
        "                            train=True,\n",
        "                            download=True,\n",
        "                            transform=transform)\n",
        "\n",
        "\n",
        "testset = datasets.CIFAR10(root='./data',\n",
        "                           train=False,\n",
        "                           download=True,\n",
        "                           transform=transform)"
      ]
    },
    {
      "cell_type": "markdown",
      "metadata": {
        "id": "1sbZTCOefmrV"
      },
      "source": [
        "We have the following parameters:\n",
        "\n",
        "\n",
        "*   `root` is the path where data is stored,\n",
        "*   `train` specifies training or test dataset,\n",
        "*   `download=True` downloads the data from the internet if it’s not available at root.\n",
        "*   `transform` specify the feature transformations\n",
        "*   `target_transform` for  label transformations\n",
        "\n"
      ]
    },
    {
      "cell_type": "code",
      "execution_count": 4,
      "metadata": {
        "colab": {
          "base_uri": "https://localhost:8080/"
        },
        "id": "jEkvQB18rTl6",
        "outputId": "6823bf56-090c-496c-fe1b-51442f548af9"
      },
      "outputs": [
        {
          "data": {
            "text/plain": [
              "(tensor([[[-0.5373, -0.6627, -0.6078,  ...,  0.2392,  0.1922,  0.1608],\n",
              "          [-0.8745, -1.0000, -0.8588,  ..., -0.0353, -0.0667, -0.0431],\n",
              "          [-0.8039, -0.8745, -0.6157,  ..., -0.0745, -0.0588, -0.1451],\n",
              "          ...,\n",
              "          [ 0.6314,  0.5765,  0.5529,  ...,  0.2549, -0.5608, -0.5843],\n",
              "          [ 0.4118,  0.3569,  0.4588,  ...,  0.4431, -0.2392, -0.3490],\n",
              "          [ 0.3882,  0.3176,  0.4039,  ...,  0.6941,  0.1843, -0.0353]],\n",
              " \n",
              "         [[-0.5137, -0.6392, -0.6235,  ...,  0.0353, -0.0196, -0.0275],\n",
              "          [-0.8431, -1.0000, -0.9373,  ..., -0.3098, -0.3490, -0.3176],\n",
              "          [-0.8118, -0.9451, -0.7882,  ..., -0.3412, -0.3412, -0.4275],\n",
              "          ...,\n",
              "          [ 0.3333,  0.2000,  0.2627,  ...,  0.0431, -0.7569, -0.7333],\n",
              "          [ 0.0902, -0.0353,  0.1294,  ...,  0.1608, -0.5137, -0.5843],\n",
              "          [ 0.1294,  0.0118,  0.1137,  ...,  0.4431, -0.0745, -0.2784]],\n",
              " \n",
              "         [[-0.5059, -0.6471, -0.6627,  ..., -0.1529, -0.2000, -0.1922],\n",
              "          [-0.8431, -1.0000, -1.0000,  ..., -0.5686, -0.6078, -0.5529],\n",
              "          [-0.8353, -1.0000, -0.9373,  ..., -0.6078, -0.6078, -0.6706],\n",
              "          ...,\n",
              "          [-0.2471, -0.7333, -0.7961,  ..., -0.4510, -0.9451, -0.8431],\n",
              "          [-0.2471, -0.6706, -0.7647,  ..., -0.2627, -0.7333, -0.7333],\n",
              "          [-0.0902, -0.2627, -0.3176,  ...,  0.0980, -0.3412, -0.4353]]]),\n",
              " 6)"
            ]
          },
          "execution_count": 4,
          "metadata": {},
          "output_type": "execute_result"
        }
      ],
      "source": [
        "trainset[0]"
      ]
    },
    {
      "cell_type": "code",
      "execution_count": 5,
      "metadata": {
        "colab": {
          "base_uri": "https://localhost:8080/"
        },
        "id": "9bCLyhUkscHc",
        "outputId": "7ca450f8-4d07-4d4c-e7e2-3765bf6a02c7"
      },
      "outputs": [
        {
          "data": {
            "text/plain": [
              "torch.Size([3, 32, 32])"
            ]
          },
          "execution_count": 5,
          "metadata": {},
          "output_type": "execute_result"
        }
      ],
      "source": [
        "trainset[0][0].shape # Take the shape of a single image in the training set"
      ]
    },
    {
      "cell_type": "code",
      "execution_count": 6,
      "metadata": {
        "colab": {
          "base_uri": "https://localhost:8080/",
          "height": 430
        },
        "id": "slOQHb3Zrs7G",
        "outputId": "7de2db84-33c7-41d2-8022-2b2014653bc5"
      },
      "outputs": [
        {
          "data": {
            "image/png": "[encoded data removed]",
            "text/plain": [
              "<Figure size 640x480 with 1 Axes>"
            ]
          },
          "metadata": {},
          "output_type": "display_data"
        }
      ],
      "source": [
        "img = trainset[1][0]\n",
        "img = img / 2 + 0.5\n",
        "npimg = img.numpy()\n",
        "plt.imshow(np.transpose(npimg, (1, 2, 0)))\n",
        "plt.show()"
      ]
    },
    {
      "cell_type": "code",
      "execution_count": 7,
      "metadata": {
        "id": "baDoR-qceWVd"
      },
      "outputs": [],
      "source": [
        "batch_size = 16\n",
        "\n",
        "train_loader = DataLoader(trainset,\n",
        "                          batch_size=batch_size,\n",
        "                          shuffle=True,\n",
        "                          num_workers=8)\n",
        "\n",
        "test_loader = DataLoader(testset,\n",
        "                         batch_size=batch_size,\n",
        "                         shuffle=False,\n",
        "                         num_workers=8)\n",
        "\n",
        "classes = ('plane', 'car', 'bird', 'cat',\n",
        "           'deer', 'dog', 'frog', 'horse', 'ship', 'truck')"
      ]
    },
    {
      "cell_type": "markdown",
      "metadata": {
        "id": "kZvZORF51KOL"
      },
      "source": [
        "num workers: Here’s a summary of [some references,](https://discuss.pytorch.org/t/guidelines-for-assigning-num-workers-to-dataloader/813) and suggestions:\n",
        "\n",
        "\n",
        "1.   num_workers=0 means ONLY the main process will load batches (that can be a bottleneck).\n",
        "2.  num_workers=1 means ONLY one worker (just not the main process) will load data, but it will still be slow.\n",
        "3. The performance of high num_workers depends on the batch size and your machine.\n",
        "4. A general place to start is to set num_workers equal to the number of CPU cores on that machine. You can get the number of CPU cores in Python using os.cpu_count(), but note that depending on your batch size, you may overflow CPU RAM.\n",
        "\n"
      ]
    },
    {
      "cell_type": "markdown",
      "metadata": {
        "id": "bGUPMQG_27_p"
      },
      "source": [
        "Increasing num_workers will ALSO increase your CPU memory consumption.\n",
        "The best thing to do is to increase the num_workers slowly and stop once there is no more improvement in your training speed.\n",
        "For debugging purposes or for dataloaders that load very small datasets, it is desirable to set num_workers=0. However, this may log a warning that you’re not using enough workers.\n"
      ]
    },
    {
      "cell_type": "code",
      "execution_count": 8,
      "metadata": {
        "id": "e5sEUA_BrPbX"
      },
      "outputs": [],
      "source": [
        "a = next(iter(test_loader))"
      ]
    },
    {
      "cell_type": "code",
      "execution_count": 9,
      "metadata": {
        "colab": {
          "base_uri": "https://localhost:8080/"
        },
        "id": "hEnSd6w-QtAY",
        "outputId": "e00d0e5d-09f6-408d-9d57-5916c3b9cc53"
      },
      "outputs": [
        {
          "data": {
            "text/plain": [
              "2"
            ]
          },
          "execution_count": 9,
          "metadata": {},
          "output_type": "execute_result"
        }
      ],
      "source": [
        "len(a) # [0 for image, 1 for label]"
      ]
    },
    {
      "cell_type": "code",
      "execution_count": 10,
      "metadata": {
        "colab": {
          "base_uri": "https://localhost:8080/"
        },
        "id": "xw9B49OJQ5zJ",
        "outputId": "0f5723ec-c5bb-438b-e75d-8dc215a3d730"
      },
      "outputs": [
        {
          "data": {
            "text/plain": [
              "torch.Size([16, 3, 32, 32])"
            ]
          },
          "execution_count": 10,
          "metadata": {},
          "output_type": "execute_result"
        }
      ],
      "source": [
        "a[0].shape # Size of the Batch [B, C, W, H]"
      ]
    },
    {
      "cell_type": "code",
      "execution_count": 11,
      "metadata": {
        "colab": {
          "base_uri": "https://localhost:8080/"
        },
        "id": "y9CYohYQQ6to",
        "outputId": "2206dd60-4caf-48b2-f228-014db0724051"
      },
      "outputs": [
        {
          "data": {
            "text/plain": [
              "torch.Size([16])"
            ]
          },
          "execution_count": 11,
          "metadata": {},
          "output_type": "execute_result"
        }
      ],
      "source": [
        "a[1].size() # Size of the label vector"
      ]
    },
    {
      "cell_type": "code",
      "execution_count": 12,
      "metadata": {
        "colab": {
          "base_uri": "https://localhost:8080/"
        },
        "id": "Tgvwp60ZRHv_",
        "outputId": "8bd841fc-ed47-4c36-ab3c-dd9944fb3edb"
      },
      "outputs": [
        {
          "data": {
            "text/plain": [
              "tensor([3, 8, 8, 0, 6, 6, 1, 6, 3, 1, 0, 9, 5, 7, 9, 8])"
            ]
          },
          "execution_count": 12,
          "metadata": {},
          "output_type": "execute_result"
        }
      ],
      "source": [
        "a[1] # Classes"
      ]
    },
    {
      "cell_type": "markdown",
      "metadata": {
        "id": "NyS6VZg_RdEY"
      },
      "source": [
        "## Custom dataset\n",
        "\n",
        "Suppose in some case we have our own data and we want to write a customized Dataset"
      ]
    },
    {
      "cell_type": "code",
      "execution_count": 13,
      "metadata": {
        "colab": {
          "base_uri": "https://localhost:8080/"
        },
        "id": "UXDe3OFBRI5q",
        "outputId": "f5edc883-2246-4c85-8686-01797c885e53"
      },
      "outputs": [
        {
          "name": "stdout",
          "output_type": "stream",
          "text": [
            "Files already downloaded and verified\n"
          ]
        }
      ],
      "source": [
        "class Noisy_Images_CIFAR10(Dataset):\n",
        "    def __init__(self, root, train=True, transform=None, target_transform=None, download=False, std=0.1, mean=0):\n",
        "        self.cifar10 = datasets.CIFAR10(\n",
        "            root=root,\n",
        "            train=train,\n",
        "            transform=transform,\n",
        "            target_transform=target_transform,\n",
        "            download=download)\n",
        "        self.std = std\n",
        "        self.mean = mean\n",
        "\n",
        "    def __len__(self):\n",
        "        return len(self.cifar10)\n",
        "\n",
        "    def __getitem__(self, index):\n",
        "        image, label = self.cifar10[index]\n",
        "        image = image + torch.randn(image.size()) * self.std + self.mean\n",
        "        return image, label\n",
        "\n",
        "transform = transforms.Compose([transforms.ToTensor()])\n",
        "\n",
        "custom_dataset = Noisy_Images_CIFAR10(\n",
        "    root='./data',\n",
        "    train=True,\n",
        "    transform=transform,\n",
        "    download=True)"
      ]
    },
    {
      "cell_type": "code",
      "execution_count": 14,
      "metadata": {
        "colab": {
          "base_uri": "https://localhost:8080/"
        },
        "id": "3rMGM15wcH6f",
        "outputId": "9b608b1c-b9b6-413f-f200-3c427b319d32"
      },
      "outputs": [
        {
          "data": {
            "text/plain": [
              "torch.Size([3, 32, 32])"
            ]
          },
          "execution_count": 14,
          "metadata": {},
          "output_type": "execute_result"
        }
      ],
      "source": [
        "custom_dataset[0][0].shape # Single image of our Custom Dataset"
      ]
    },
    {
      "cell_type": "code",
      "execution_count": 15,
      "metadata": {
        "colab": {
          "base_uri": "https://localhost:8080/",
          "height": 447
        },
        "id": "lH3CHPQAcKj-",
        "outputId": "dd00541b-de29-4e6d-8fe4-5ae8f40889ce"
      },
      "outputs": [
        {
          "name": "stderr",
          "output_type": "stream",
          "text": [
            "Clipping input data to the valid range for imshow with RGB data ([0..1] for floats or [0..255] for integers).\n"
          ]
        },
        {
          "data": {
            "image/png": "[encoded data removed]",
            "text/plain": [
              "<Figure size 640x480 with 1 Axes>"
            ]
          },
          "metadata": {},
          "output_type": "display_data"
        }
      ],
      "source": [
        "img = custom_dataset[1][0]\n",
        "img = img / 2 + 0.5\n",
        "npimg = img.numpy()\n",
        "plt.imshow(np.transpose(npimg, (1, 2, 0)))\n",
        "plt.show()"
      ]
    },
    {
      "cell_type": "markdown",
      "metadata": {
        "id": "d7CBxmXZdaFg"
      },
      "source": [
        "### Exercise 1: Creating a Custom Dataset with Noisy Labels in PyTorch\n",
        "\n",
        "Objective: In this exercise, you will customize a dataset built upon CIFAR-10 and intentionally introduce incorrect labels to a subset of the data. The incorrect labels will be randomly assigned to a portion of the dataset. You can specify the error rate (the fraction of misclassified samples) as an input to the dataset class. Specifically, for a given noise_rate, a fraction (1 - noise_rate) of the dataset will have the correct labels, while the remaining noise_rate fraction will receive random labels selected uniformly from 0 to 9.\n",
        "\n",
        "### Exercise 2: Creating a Custom Dataset with Binary labels from CIFAR 10\n",
        "\n",
        "The classes in CIFAR 10 are the following:\n",
        "classes = (0: plane',\n",
        "           1: 'car',\n",
        "           2: 'bird',\n",
        "           3: 'cat',\n",
        "           4: 'deer',\n",
        "           5: 'dog',\n",
        "           6: 'frog',\n",
        "           7: 'horse',\n",
        "           8: 'ship',\n",
        "           9: 'truck')\n",
        "\n",
        "Objective: In this exercise, you will create a custom dataset based on CIFAR-10 with binary labels. The goal is to reassign labels such that elements originally labeled as 0, 1, 8, and 9 are assigned the label 0, while elements with original labels 3, 4, 5, 6, and 7 are assigned the label 1.\n",
        "\n",
        "\n",
        "### Exercise 3: Implementing Mix-Up Augmentation for CIFAR-10\n",
        "\n",
        "\n",
        "Mixup is a data augmentation technique that combines pairs of examples via a convex combination of the images and the labels. Given images $x_i$ and $x_j$ with labels $y_i$ and $y_j$, respectively, and $\\lambda \\in [0,1]$, mixup creates a new image $\\hat{x}$ with label $\\hat{y}$ the following way:\n",
        "\n",
        "\\begin{align}\n",
        "\\hat{x} = \\lambda x_i + (1-\\lambda) x_j \\quad \\text{and} \\quad \\hat{y} = \\lambda y_i + (1-\\lambda) y_j\n",
        "\\end{align}\n",
        "\n",
        "[Original Paper](https://arxiv.org/abs/1710.09412)\n",
        "\n",
        "Objective: In this exercise, you will implement a Mix-Up augmentation for the CIFAR-10 dataset. Mix-Up is a data augmentation technique that blends two images and their corresponding labels to create a new training sample. The objective is to improve the robustness and generalization of deep learning models.\n",
        "\n"
      ]
    },
    {
      "cell_type": "markdown",
      "metadata": {
        "id": "gln5xF0TiMrd"
      },
      "source": [
        "### Eercise 4 : Data Augmentation\n",
        "\n",
        "Applies data augmentation (flipping, cropping, color adjustments, and rotation, see [torch.transform](https://pytorch.org/vision/0.9/transforms.html) )  to create variations of CIFAR-10 images.\n",
        "Extends the dataset with these augmented images to have five times more training data.\n",
        "Sets up a DataLoader for training using the augmented dataset.\n",
        "This process increases the dataset size for improved model training."
      ]
    },
    {
      "cell_type": "markdown",
      "metadata": {
        "id": "E1AKoOLDFG0P"
      },
      "source": [
        "Notice that there are multiple valid approaches to completing each exercise!!"
      ]
    },
    {
      "cell_type": "markdown",
      "metadata": {
        "id": "rXbScsq9jpKu"
      },
      "source": [
        "## Lighting Datamodule\n",
        "\n",
        "A datamodule encapsulates the five steps involved in data processing in PyTorch:\n",
        "\n",
        "- Download / tokenize / process.<br>\n",
        "- Clean and (maybe) save to disk.<br>\n",
        "- Load inside Dataset.<br>\n",
        "- Apply transforms (rotate, tokenize, etc…).<br>\n",
        "- Wrap inside a DataLoader."
      ]
    },
    {
      "cell_type": "code",
      "execution_count": null,
      "metadata": {
        "colab": {
          "base_uri": "https://localhost:8080/"
        },
        "id": "7W5-MrIAkSkp",
        "outputId": "0cc93d0d-1413-42d4-e944-d4885831add2"
      },
      "outputs": [
        {
          "name": "stdout",
          "output_type": "stream",
          "text": [
            "Collecting pytorch_lightning\n",
            "  Downloading pytorch_lightning-2.1.0-py3-none-any.whl (774 kB)\n",
            "\u001b[2K     \u001b[90m━━━━━━━━━━━━━━━━━━━━━━━━━━━━━━━━━━━━━━━━\u001b[0m \u001b[32m774.6/774.6 kB\u001b[0m \u001b[31m16.2 MB/s\u001b[0m eta \u001b[36m0:00:00\u001b[0m\n",
            "\u001b[?25hRequirement already satisfied: numpy>=1.17.2 in /usr/local/lib/python3.10/dist-packages (from pytorch_lightning) (1.23.5)\n",
            "Requirement already satisfied: torch>=1.12.0 in /usr/local/lib/python3.10/dist-packages (from pytorch_lightning) (2.0.1+cu118)\n",
            "Requirement already satisfied: tqdm>=4.57.0 in /usr/local/lib/python3.10/dist-packages (from pytorch_lightning) (4.66.1)\n",
            "Requirement already satisfied: PyYAML>=5.4 in /usr/local/lib/python3.10/dist-packages (from pytorch_lightning) (6.0.1)\n",
            "Requirement already satisfied: fsspec[http]>2021.06.0 in /usr/local/lib/python3.10/dist-packages (from pytorch_lightning) (2023.6.0)\n",
            "Collecting torchmetrics>=0.7.0 (from pytorch_lightning)\n",
            "  Downloading torchmetrics-1.2.0-py3-none-any.whl (805 kB)\n",
            "\u001b[2K     \u001b[90m━━━━━━━━━━━━━━━━━━━━━━━━━━━━━━━━━━━━━━━━\u001b[0m \u001b[32m805.2/805.2 kB\u001b[0m \u001b[31m62.8 MB/s\u001b[0m eta \u001b[36m0:00:00\u001b[0m\n",
            "\u001b[?25hRequirement already satisfied: packaging>=20.0 in /usr/local/lib/python3.10/dist-packages (from pytorch_lightning) (23.2)\n",
            "Requirement already satisfied: typing-extensions>=4.0.0 in /usr/local/lib/python3.10/dist-packages (from pytorch_lightning) (4.5.0)\n",
            "Collecting lightning-utilities>=0.8.0 (from pytorch_lightning)\n",
            "  Downloading lightning_utilities-0.9.0-py3-none-any.whl (23 kB)\n",
            "Requirement already satisfied: requests in /usr/local/lib/python3.10/dist-packages (from fsspec[http]>2021.06.0->pytorch_lightning) (2.31.0)\n",
            "Requirement already satisfied: aiohttp!=4.0.0a0,!=4.0.0a1 in /usr/local/lib/python3.10/dist-packages (from fsspec[http]>2021.06.0->pytorch_lightning) (3.8.6)\n",
            "Requirement already satisfied: filelock in /usr/local/lib/python3.10/dist-packages (from torch>=1.12.0->pytorch_lightning) (3.12.4)\n",
            "Requirement already satisfied: sympy in /usr/local/lib/python3.10/dist-packages (from torch>=1.12.0->pytorch_lightning) (1.12)\n",
            "Requirement already satisfied: networkx in /usr/local/lib/python3.10/dist-packages (from torch>=1.12.0->pytorch_lightning) (3.1)\n",
            "Requirement already satisfied: jinja2 in /usr/local/lib/python3.10/dist-packages (from torch>=1.12.0->pytorch_lightning) (3.1.2)\n",
            "Requirement already satisfied: triton==2.0.0 in /usr/local/lib/python3.10/dist-packages (from torch>=1.12.0->pytorch_lightning) (2.0.0)\n",
            "Requirement already satisfied: cmake in /usr/local/lib/python3.10/dist-packages (from triton==2.0.0->torch>=1.12.0->pytorch_lightning) (3.27.7)\n",
            "Requirement already satisfied: lit in /usr/local/lib/python3.10/dist-packages (from triton==2.0.0->torch>=1.12.0->pytorch_lightning) (17.0.2)\n",
            "Requirement already satisfied: attrs>=17.3.0 in /usr/local/lib/python3.10/dist-packages (from aiohttp!=4.0.0a0,!=4.0.0a1->fsspec[http]>2021.06.0->pytorch_lightning) (23.1.0)\n",
            "Requirement already satisfied: charset-normalizer<4.0,>=2.0 in /usr/local/lib/python3.10/dist-packages (from aiohttp!=4.0.0a0,!=4.0.0a1->fsspec[http]>2021.06.0->pytorch_lightning) (3.3.0)\n",
            "Requirement already satisfied: multidict<7.0,>=4.5 in /usr/local/lib/python3.10/dist-packages (from aiohttp!=4.0.0a0,!=4.0.0a1->fsspec[http]>2021.06.0->pytorch_lightning) (6.0.4)\n",
            "Requirement already satisfied: async-timeout<5.0,>=4.0.0a3 in /usr/local/lib/python3.10/dist-packages (from aiohttp!=4.0.0a0,!=4.0.0a1->fsspec[http]>2021.06.0->pytorch_lightning) (4.0.3)\n",
            "Requirement already satisfied: yarl<2.0,>=1.0 in /usr/local/lib/python3.10/dist-packages (from aiohttp!=4.0.0a0,!=4.0.0a1->fsspec[http]>2021.06.0->pytorch_lightning) (1.9.2)\n",
            "Requirement already satisfied: frozenlist>=1.1.1 in /usr/local/lib/python3.10/dist-packages (from aiohttp!=4.0.0a0,!=4.0.0a1->fsspec[http]>2021.06.0->pytorch_lightning) (1.4.0)\n",
            "Requirement already satisfied: aiosignal>=1.1.2 in /usr/local/lib/python3.10/dist-packages (from aiohttp!=4.0.0a0,!=4.0.0a1->fsspec[http]>2021.06.0->pytorch_lightning) (1.3.1)\n",
            "Requirement already satisfied: MarkupSafe>=2.0 in /usr/local/lib/python3.10/dist-packages (from jinja2->torch>=1.12.0->pytorch_lightning) (2.1.3)\n",
            "Requirement already satisfied: idna<4,>=2.5 in /usr/local/lib/python3.10/dist-packages (from requests->fsspec[http]>2021.06.0->pytorch_lightning) (3.4)\n",
            "Requirement already satisfied: urllib3<3,>=1.21.1 in /usr/local/lib/python3.10/dist-packages (from requests->fsspec[http]>2021.06.0->pytorch_lightning) (2.0.6)\n",
            "Requirement already satisfied: certifi>=2017.4.17 in /usr/local/lib/python3.10/dist-packages (from requests->fsspec[http]>2021.06.0->pytorch_lightning) (2023.7.22)\n",
            "Requirement already satisfied: mpmath>=0.19 in /usr/local/lib/python3.10/dist-packages (from sympy->torch>=1.12.0->pytorch_lightning) (1.3.0)\n",
            "Installing collected packages: lightning-utilities, torchmetrics, pytorch_lightning\n",
            "Successfully installed lightning-utilities-0.9.0 pytorch_lightning-2.1.0 torchmetrics-1.2.0\n"
          ]
        }
      ],
      "source": [
        "!pip install pytorch_lightning"
      ]
    },
    {
      "cell_type": "markdown",
      "metadata": {
        "id": "zOLEqmA03auH"
      },
      "source": [
        "The LightningDataModule is a convenient way to manage data in PyTorch Lightning. It encapsulates training, validation, testing, and prediction dataloaders, as well as any necessary steps for data processing, downloads, and transformations. By using a LightningDataModule, you can easily develop dataset-agnostic models, hot-swap different datasets, and share data splits and transformations across projects."
      ]
    },
    {
      "cell_type": "markdown",
      "metadata": {
        "id": "7Zq40OfR39iT"
      },
      "source": [
        "LightningDataModule API\n",
        "\n",
        "To define a DataModule the following methods are used to create train/val/test/predict dataloaders:\n",
        "\n",
        "\n",
        "\n",
        "*   prepare_data (how to download, tokenize, etc…) :\n",
        "Downloading and saving data. Lightning ensures the prepare_data() is called only within a single process on CPU\n",
        "*   setup (how to split, define dataset, etc…):\n",
        "Use setup() for operations you might want to perform on every GPU.\n",
        "\n",
        "*  train_dataloader\n",
        "*  val_dataloader\n",
        "*  test_dataloader\n",
        "*  predict_dataloader"
      ]
    },
    {
      "cell_type": "code",
      "execution_count": 16,
      "metadata": {
        "id": "lEpNY4vOkQa0"
      },
      "outputs": [],
      "source": [
        "import pytorch_lightning as pl\n",
        "import torchvision\n",
        "from torchvision import transforms\n",
        "\n",
        "class CIFAR10DataModule(pl.LightningDataModule):\n",
        "    def __init__(self, data_dir: str = \"./\"): # Init function of our LightningDataModule\n",
        "        super().__init__()\n",
        "\n",
        "        # Data directory\n",
        "        self.data_dir = data_dir\n",
        "\n",
        "        # Transformations\n",
        "        self.transform = transforms.Compose([\n",
        "            transforms.ToTensor(),\n",
        "            transforms.Normalize((0.5, 0.5, 0.5), (0.5, 0.5, 0.5))])\n",
        "\n",
        "        self.dims = (3, 32, 32) # [C, W, H]\n",
        "        self.num_classes = 10\n",
        "\n",
        "        # Batch size\n",
        "        self.BATCH_SIZE = 16\n",
        "\n",
        "    def prepare_data(self):\n",
        "        # Download\n",
        "        torchvision.datasets.CIFAR10(self.data_dir, train=True, download=True)\n",
        "        torchvision.datasets.CIFAR10(self.data_dir, train=False, download=True)\n",
        "\n",
        "    def setup(self, stage=None):\n",
        "\n",
        "        # Assign train/val datasets for use in dataloaders\n",
        "        if stage == \"fit\" or stage is None:\n",
        "            cifar_full =  torchvision.datasets.CIFAR10(self.data_dir, train=True, transform=self.transform)\n",
        "            self.cifar_train, self.cifar_val = torch.utils.data.random_split(cifar_full, [45000, 5000]) # (Dataset to split, length (splits to be produced))\n",
        "\n",
        "        # Assign test dataset for use in dataloader(s)\n",
        "        if stage == \"test\" or stage is None:\n",
        "            self.cifar_test = torchvision.datasets.CIFAR10(self.data_dir, train=False, transform=self.transform)\n",
        "\n",
        "    def train_dataloader(self):\n",
        "        return torch.utils.data.DataLoader(self.cifar_train, batch_size=self.BATCH_SIZE)\n",
        "\n",
        "    def val_dataloader(self):\n",
        "        return  torch.utils.data.DataLoader(self.cifar_val, batch_size=self.BATCH_SIZE)\n",
        "\n",
        "    def test_dataloader(self):\n",
        "        return  torch.utils.data.DataLoader(self.cifar_test, batch_size=self.BATCH_SIZE)"
      ]
    }
  ],
  "metadata": {
    "colab": {
      "provenance": []
    },
    "kernelspec": {
      "display_name": "Python 3",
      "name": "python3"
    },
    "language_info": {
      "codemirror_mode": {
        "name": "ipython",
        "version": 3
      },
      "file_extension": ".py",
      "mimetype": "text/x-python",
      "name": "python",
      "nbconvert_exporter": "python",
      "pygments_lexer": "ipython3",
      "version": "3.9.13"
    }
  },
  "nbformat": 4,
  "nbformat_minor": 0
}
