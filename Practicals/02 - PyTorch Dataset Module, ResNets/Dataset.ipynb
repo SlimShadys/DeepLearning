{
  "nbformat": 4,
  "nbformat_minor": 0,
  "metadata": {
    "colab": {
      "provenance": []
    },
    "kernelspec": {
      "name": "python3",
      "display_name": "Python 3"
    },
    "language_info": {
      "name": "python"
    }
  },
  "cells": [
    {
      "cell_type": "markdown",
      "source": [
        " PyTorch provides two data primitives: `torch.utils.data.DataLoader` and `torch.utils.data.Dataset` that allow you to use pre-loaded datasets as well as your own data. `Dataset `stores the samples and their corresponding labels, and `DataLoader` wraps an iterable around the Dataset to enable easy access to the samples."
      ],
      "metadata": {
        "id": "xcCdPGVjaLtL"
      }
    },
    {
      "cell_type": "code",
      "execution_count": null,
      "metadata": {
        "id": "FO7Znt8jZsVu"
      },
      "outputs": [],
      "source": [
        "import torch\n",
        "from torch.utils.data import Dataset,  DataLoader\n",
        "from torchvision import datasets\n",
        "from torchvision.transforms import ToTensor\n",
        "import matplotlib.pyplot as plt\n",
        "import torchvision.transforms as transforms\n",
        "import numpy as np\n",
        "from PIL import Image\n",
        "import random"
      ]
    },
    {
      "cell_type": "markdown",
      "source": [
        "## Built-in dataset\n",
        "\n",
        "[Image Datasets](https://pytorch.org/vision/stable/datasets.html), [Text Datasets](https://pytorch.org/text/stable/datasets.html), and [Audio Datasets](https://pytorch.org/audio/stable/datasets.html)\n",
        "\n",
        "Torchvision provides many built-in datasets in the `torchvision.datasets` module, as well as utility classes for building your own datasets.\n",
        "\n",
        "All datasets are subclasses of `torch.utils.data.Dataset` i.e, they have `__getitem__` and `__len__` methods implemented.\n",
        "\n",
        "\n",
        "\n"
      ],
      "metadata": {
        "id": "CHwgL_9PbDnu"
      }
    },
    {
      "cell_type": "markdown",
      "source": [
        "Recall from last lecture:\n",
        "\n",
        "CLASS `torch.utils.data.Dataset(*args, **kwds)`\n",
        "\n",
        "An abstract class representing a Dataset.\n",
        "\n",
        "All datasets that represent a map from keys to data samples should subclass it. All subclasses\n",
        "\n",
        "*   should overwrite `__getitem__()`, supporting fetching a data\n",
        "sample for a given key.\n",
        "*   optionally overwrite `__len__()`, which is expected to return the size of the dataset\n",
        "* optionally implement `__getitems__()`, for speedup batched samples loading."
      ],
      "metadata": {
        "id": "eSFV4dSriVIi"
      }
    },
    {
      "cell_type": "markdown",
      "source": [
        "\n",
        "Hence, they can all be passed to a `torch.utils.data.DataLoader` which can load multiple samples in parallel using torch.multiprocessing workers."
      ],
      "metadata": {
        "id": "yJSL90xNiTtq"
      }
    },
    {
      "cell_type": "markdown",
      "source": [
        "## Transform\n",
        "\n",
        "Let's first define some traqnsformation we can do on the downloaded images.\n",
        "\n",
        "Fro more information visit [trochvision.transform ](https://pytorch.org/vision/0.9/transforms.html)\n",
        "\n",
        "Here we will just  apply to simple transofrmation to our PIL images:\n",
        "\n",
        "\n",
        "1.   Transforms on PIL Image and torch.Tensor\n",
        "2.   Normalize a tensor image with mean and standard deviation\n",
        "\n"
      ],
      "metadata": {
        "id": "ZZsMz9vCqAgY"
      }
    },
    {
      "cell_type": "code",
      "source": [
        "transform = transforms.Compose(\n",
        "    [transforms.ToTensor(),\n",
        "     transforms.Normalize((0.5, 0.5, 0.5), (0.5, 0.5, 0.5))])"
      ],
      "metadata": {
        "id": "5lGy1dMZpwDo"
      },
      "execution_count": null,
      "outputs": []
    },
    {
      "cell_type": "markdown",
      "source": [
        "## Load the data"
      ],
      "metadata": {
        "id": "G4aIjUZDrCOG"
      }
    },
    {
      "cell_type": "code",
      "source": [
        "trainset = datasets.CIFAR10(root='./data',\n",
        "                            train=True,\n",
        "                            download=True,\n",
        "                            transform=transform)\n",
        "\n",
        "\n",
        "testset = datasets.CIFAR10(root='./data',\n",
        "                           train=False,\n",
        "                           download=True,\n",
        "                           transform=transform)"
      ],
      "metadata": {
        "colab": {
          "base_uri": "https://localhost:8080/"
        },
        "id": "xGBq3JvVeUHa",
        "outputId": "d4dafebf-c39c-4c46-8468-6580ee94d6ff"
      },
      "execution_count": null,
      "outputs": [
        {
          "output_type": "stream",
          "name": "stdout",
          "text": [
            "Downloading https://www.cs.toronto.edu/~kriz/cifar-10-python.tar.gz to ./data/cifar-10-python.tar.gz\n"
          ]
        },
        {
          "output_type": "stream",
          "name": "stderr",
          "text": [
            "100%|██████████| 170498071/170498071 [00:02<00:00, 69637651.38it/s]\n"
          ]
        },
        {
          "output_type": "stream",
          "name": "stdout",
          "text": [
            "Extracting ./data/cifar-10-python.tar.gz to ./data\n",
            "Files already downloaded and verified\n"
          ]
        }
      ]
    },
    {
      "cell_type": "markdown",
      "source": [
        "We have the following parameters:\n",
        "\n",
        "\n",
        "*   `root` is the path where data is stored,\n",
        "*   `train` specifies training or test dataset,\n",
        "*   `download=True` downloads the data from the internet if it’s not available at root.\n",
        "*   `transform` specify the feature transformations\n",
        "*   `target_transform` for  label transformations\n",
        "\n"
      ],
      "metadata": {
        "id": "1sbZTCOefmrV"
      }
    },
    {
      "cell_type": "code",
      "source": [
        "trainset[0]"
      ],
      "metadata": {
        "colab": {
          "base_uri": "https://localhost:8080/"
        },
        "id": "jEkvQB18rTl6",
        "outputId": "6823bf56-090c-496c-fe1b-51442f548af9"
      },
      "execution_count": null,
      "outputs": [
        {
          "output_type": "execute_result",
          "data": {
            "text/plain": [
              "(tensor([[[-0.5373, -0.6627, -0.6078,  ...,  0.2392,  0.1922,  0.1608],\n",
              "          [-0.8745, -1.0000, -0.8588,  ..., -0.0353, -0.0667, -0.0431],\n",
              "          [-0.8039, -0.8745, -0.6157,  ..., -0.0745, -0.0588, -0.1451],\n",
              "          ...,\n",
              "          [ 0.6314,  0.5765,  0.5529,  ...,  0.2549, -0.5608, -0.5843],\n",
              "          [ 0.4118,  0.3569,  0.4588,  ...,  0.4431, -0.2392, -0.3490],\n",
              "          [ 0.3882,  0.3176,  0.4039,  ...,  0.6941,  0.1843, -0.0353]],\n",
              " \n",
              "         [[-0.5137, -0.6392, -0.6235,  ...,  0.0353, -0.0196, -0.0275],\n",
              "          [-0.8431, -1.0000, -0.9373,  ..., -0.3098, -0.3490, -0.3176],\n",
              "          [-0.8118, -0.9451, -0.7882,  ..., -0.3412, -0.3412, -0.4275],\n",
              "          ...,\n",
              "          [ 0.3333,  0.2000,  0.2627,  ...,  0.0431, -0.7569, -0.7333],\n",
              "          [ 0.0902, -0.0353,  0.1294,  ...,  0.1608, -0.5137, -0.5843],\n",
              "          [ 0.1294,  0.0118,  0.1137,  ...,  0.4431, -0.0745, -0.2784]],\n",
              " \n",
              "         [[-0.5059, -0.6471, -0.6627,  ..., -0.1529, -0.2000, -0.1922],\n",
              "          [-0.8431, -1.0000, -1.0000,  ..., -0.5686, -0.6078, -0.5529],\n",
              "          [-0.8353, -1.0000, -0.9373,  ..., -0.6078, -0.6078, -0.6706],\n",
              "          ...,\n",
              "          [-0.2471, -0.7333, -0.7961,  ..., -0.4510, -0.9451, -0.8431],\n",
              "          [-0.2471, -0.6706, -0.7647,  ..., -0.2627, -0.7333, -0.7333],\n",
              "          [-0.0902, -0.2627, -0.3176,  ...,  0.0980, -0.3412, -0.4353]]]),\n",
              " 6)"
            ]
          },
          "metadata": {},
          "execution_count": 4
        }
      ]
    },
    {
      "cell_type": "code",
      "source": [
        "trainset[0][0].shape"
      ],
      "metadata": {
        "colab": {
          "base_uri": "https://localhost:8080/"
        },
        "id": "9bCLyhUkscHc",
        "outputId": "7ca450f8-4d07-4d4c-e7e2-3765bf6a02c7"
      },
      "execution_count": null,
      "outputs": [
        {
          "output_type": "execute_result",
          "data": {
            "text/plain": [
              "torch.Size([3, 32, 32])"
            ]
          },
          "metadata": {},
          "execution_count": 5
        }
      ]
    },
    {
      "cell_type": "code",
      "source": [
        "img = trainset[1][0]\n",
        "img = img / 2 + 0.5\n",
        "npimg = img.numpy()\n",
        "plt.imshow(np.transpose(npimg, (1, 2, 0)))\n",
        "plt.show()"
      ],
      "metadata": {
        "colab": {
          "base_uri": "https://localhost:8080/",
          "height": 430
        },
        "id": "slOQHb3Zrs7G",
        "outputId": "7de2db84-33c7-41d2-8022-2b2014653bc5"
      },
      "execution_count": null,
      "outputs": [
        {
          "output_type": "display_data",
          "data": {
            "text/plain": [
              "<Figure size 640x480 with 1 Axes>"
            ],
            "image/png": "[encoded data removed]"
          },
          "metadata": {}
        }
      ]
    },
    {
      "cell_type": "code",
      "source": [
        "batch_size = 8\n",
        "\n",
        "train_loader = DataLoader(trainset,\n",
        "                          batch_size=batch_size,\n",
        "                          shuffle=True,\n",
        "                          num_workers=2)\n",
        "\n",
        "test_loader = DataLoader(testset,\n",
        "                         batch_size=batch_size,\n",
        "                         shuffle=False,\n",
        "                         num_workers=2)\n",
        "\n",
        "classes = ('plane', 'car', 'bird', 'cat',\n",
        "           'deer', 'dog', 'frog', 'horse', 'ship', 'truck')"
      ],
      "metadata": {
        "id": "baDoR-qceWVd"
      },
      "execution_count": null,
      "outputs": []
    },
    {
      "cell_type": "markdown",
      "source": [
        "num workers: Here’s a summary of [some references,](https://discuss.pytorch.org/t/guidelines-for-assigning-num-workers-to-dataloader/813) and suggestions:\n",
        "\n",
        "\n",
        "1.   num_workers=0 means ONLY the main process will load batches (that can be a bottleneck).\n",
        "2.  num_workers=1 means ONLY one worker (just not the main process) will load data, but it will still be slow.\n",
        "3. The performance of high num_workers depends on the batch size and your machine.\n",
        "4. A general place to start is to set num_workers equal to the number of CPU cores on that machine. You can get the number of CPU cores in Python using os.cpu_count(), but note that depending on your batch size, you may overflow CPU RAM.\n",
        "\n"
      ],
      "metadata": {
        "id": "kZvZORF51KOL"
      }
    },
    {
      "cell_type": "markdown",
      "source": [
        "Increasing num_workers will ALSO increase your CPU memory consumption.\n",
        "The best thing to do is to increase the num_workers slowly and stop once there is no more improvement in your training speed.\n",
        "For debugging purposes or for dataloaders that load very small datasets, it is desirable to set num_workers=0. However, this may log a warning that you’re not using enough workers.\n"
      ],
      "metadata": {
        "id": "bGUPMQG_27_p"
      }
    },
    {
      "cell_type": "code",
      "source": [
        "a = next(iter(test_loader))"
      ],
      "metadata": {
        "id": "e5sEUA_BrPbX"
      },
      "execution_count": null,
      "outputs": []
    },
    {
      "cell_type": "code",
      "source": [
        "len(a)"
      ],
      "metadata": {
        "colab": {
          "base_uri": "https://localhost:8080/"
        },
        "id": "hEnSd6w-QtAY",
        "outputId": "e00d0e5d-09f6-408d-9d57-5916c3b9cc53"
      },
      "execution_count": null,
      "outputs": [
        {
          "output_type": "execute_result",
          "data": {
            "text/plain": [
              "2"
            ]
          },
          "metadata": {},
          "execution_count": 9
        }
      ]
    },
    {
      "cell_type": "code",
      "source": [
        "a[0].shape"
      ],
      "metadata": {
        "colab": {
          "base_uri": "https://localhost:8080/"
        },
        "id": "xw9B49OJQ5zJ",
        "outputId": "0f5723ec-c5bb-438b-e75d-8dc215a3d730"
      },
      "execution_count": null,
      "outputs": [
        {
          "output_type": "execute_result",
          "data": {
            "text/plain": [
              "torch.Size([8, 3, 32, 32])"
            ]
          },
          "metadata": {},
          "execution_count": 12
        }
      ]
    },
    {
      "cell_type": "code",
      "source": [
        "a[1].size()"
      ],
      "metadata": {
        "colab": {
          "base_uri": "https://localhost:8080/"
        },
        "id": "y9CYohYQQ6to",
        "outputId": "2206dd60-4caf-48b2-f228-014db0724051"
      },
      "execution_count": null,
      "outputs": [
        {
          "output_type": "execute_result",
          "data": {
            "text/plain": [
              "torch.Size([8])"
            ]
          },
          "metadata": {},
          "execution_count": 12
        }
      ]
    },
    {
      "cell_type": "code",
      "source": [
        "a[1]"
      ],
      "metadata": {
        "colab": {
          "base_uri": "https://localhost:8080/"
        },
        "id": "Tgvwp60ZRHv_",
        "outputId": "8bd841fc-ed47-4c36-ab3c-dd9944fb3edb"
      },
      "execution_count": null,
      "outputs": [
        {
          "output_type": "execute_result",
          "data": {
            "text/plain": [
              "tensor([3, 8, 8, 0, 6, 6, 1, 6])"
            ]
          },
          "metadata": {},
          "execution_count": 13
        }
      ]
    },
    {
      "cell_type": "markdown",
      "source": [
        "## Custom dataset\n",
        "\n",
        "Suppose in some case we have our own data and what to write a customized Daset"
      ],
      "metadata": {
        "id": "NyS6VZg_RdEY"
      }
    },
    {
      "cell_type": "code",
      "source": [
        "class Noisy_Images_CIFAR10(Dataset):\n",
        "    def __init__(self,\n",
        "                 root,\n",
        "                 train=True,\n",
        "                 transform=None,\n",
        "                 target_transform=None,\n",
        "                 download=False,\n",
        "                 std= 0.1,\n",
        "                 mean=0):\n",
        "        self.cifar10 = datasets.CIFAR10(\n",
        "            root=root,\n",
        "            train=train,\n",
        "            transform=transform,\n",
        "            target_transform=target_transform,\n",
        "            download=download)\n",
        "        self.std = std\n",
        "        self.mean = mean\n",
        "\n",
        "    def __len__(self):\n",
        "        return len(self.cifar10)\n",
        "\n",
        "\n",
        "    def __getitem__(self, index):\n",
        "        image, label = self.cifar10[index]\n",
        "        image = image + torch.randn(image.size()) * self.std + self.mean\n",
        "        return image, label\n",
        "\n",
        "\n",
        "transform = transforms.Compose([transforms.ToTensor()])\n",
        "\n",
        "custom_dataset = Noisy_Images_CIFAR10(\n",
        "    root='./data',\n",
        "    train=True,\n",
        "    transform=transform,\n",
        "    download=True)\n"
      ],
      "metadata": {
        "colab": {
          "base_uri": "https://localhost:8080/"
        },
        "id": "UXDe3OFBRI5q",
        "outputId": "f5edc883-2246-4c85-8686-01797c885e53"
      },
      "execution_count": null,
      "outputs": [
        {
          "output_type": "stream",
          "name": "stdout",
          "text": [
            "Files already downloaded and verified\n"
          ]
        }
      ]
    },
    {
      "cell_type": "code",
      "source": [
        "custom_dataset[0][0].shape"
      ],
      "metadata": {
        "colab": {
          "base_uri": "https://localhost:8080/"
        },
        "id": "3rMGM15wcH6f",
        "outputId": "9b608b1c-b9b6-413f-f200-3c427b319d32"
      },
      "execution_count": null,
      "outputs": [
        {
          "output_type": "execute_result",
          "data": {
            "text/plain": [
              "torch.Size([3, 32, 32])"
            ]
          },
          "metadata": {},
          "execution_count": 14
        }
      ]
    },
    {
      "cell_type": "code",
      "source": [
        "img = custom_dataset[1][0]\n",
        "img = img / 2 + 0.5\n",
        "npimg = img.numpy()\n",
        "plt.imshow(np.transpose(npimg, (1, 2, 0)))\n",
        "plt.show()"
      ],
      "metadata": {
        "colab": {
          "base_uri": "https://localhost:8080/",
          "height": 447
        },
        "id": "lH3CHPQAcKj-",
        "outputId": "dd00541b-de29-4e6d-8fe4-5ae8f40889ce"
      },
      "execution_count": null,
      "outputs": [
        {
          "output_type": "stream",
          "name": "stderr",
          "text": [
            "WARNING:matplotlib.image:Clipping input data to the valid range for imshow with RGB data ([0..1] for floats or [0..255] for integers).\n"
          ]
        },
        {
          "output_type": "display_data",
          "data": {
            "text/plain": [
              "<Figure size 640x480 with 1 Axes>"
            ],
            "image/png": "[encoded data removed]"
          },
          "metadata": {}
        }
      ]
    },
    {
      "cell_type": "markdown",
      "source": [
        "###Exercise 1: Creating a Custom Dataset with Noisy Labels in PyTorch\n",
        "\n",
        "Objective: In this exercise, you will customize a dataset built upon CIFAR-10 and intentionally introduce incorrect labels to a subset of the data. The incorrect labels will be randomly assigned to a portion of the dataset. You can specify the error rate (the fraction of misclassified samples) as an input to the dataset class. Specifically, for a given noise_rate, a fraction (1 - noise_rate) of the dataset will have the correct labels, while the remaining noise_rate fraction will receive random labels selected uniformly from 0 to 9.\n",
        "###Exercise 2: Creating a Custom Dataset with Binary labels from CIFAR 10\n",
        "\n",
        "The classes in CIFAR 10 are the following:\n",
        "classes = (0: plane',\n",
        "           1: 'car',\n",
        "           2: 'bird',\n",
        "           3: 'cat',\n",
        "           4: 'deer',\n",
        "           5: 'dog',\n",
        "           6: 'frog',\n",
        "           7: 'horse',\n",
        "           8: 'ship',\n",
        "           9: 'truck')\n",
        "\n",
        "Objective: In this exercise, you will create a custom dataset based on CIFAR-10 with binary labels. The goal is to reassign labels such that elements originally labeled as 0, 1, 8, and 9 are assigned the label 0, while elements with original labels 3, 4, 5, 6, and 7 are assigned the label 1.\n",
        "\n",
        "\n",
        "### Exercise3: Implementing Mix-Up Augmentation for CIFAR-10\n",
        "\n",
        "\n",
        "Mixup is a data augmentation technique that combines pairs of examples via a convex combination of the images and the labels. Given images $x_i$ and $x_j$ with labels $y_i$ and $y_j$, respectively, and $\\lambda \\in [0,1]$, mixup creates a new image $\\hat{x}$ with label $\\hat{y}$ the following way:\n",
        "\n",
        "\\begin{align}\n",
        "\\hat{x} = \\lambda x_i + (1-\\lambda) x_j \\quad \\text{and} \\quad \\hat{y} = \\lambda y_i + (1-\\lambda) y_j\n",
        "\\end{align}\n",
        "\n",
        "[Original Paper](https://arxiv.org/abs/1710.09412)\n",
        "\n",
        "Objective: In this exercise, you will implement a Mix-Up augmentation for the CIFAR-10 dataset. Mix-Up is a data augmentation technique that blends two images and their corresponding labels to create a new training sample. The objective is to improve the robustness and generalization of deep learning models.\n",
        "\n"
      ],
      "metadata": {
        "id": "d7CBxmXZdaFg"
      }
    },
    {
      "cell_type": "markdown",
      "source": [
        "### Eercise 4 : Data Augmentation\n",
        "\n",
        "Applies data augmentation (flipping, cropping, color adjustments, and rotation, see [torch.transform](https://pytorch.org/vision/0.9/transforms.html) )  to create variations of CIFAR-10 images.\n",
        "Extends the dataset with these augmented images to have five times more training data.\n",
        "Sets up a DataLoader for training using the augmented dataset.\n",
        "This process increases the dataset size for improved model training."
      ],
      "metadata": {
        "id": "gln5xF0TiMrd"
      }
    },
    {
      "cell_type": "markdown",
      "source": [
        "Notice that there are multiple valid approaches to completing each exercise!!"
      ],
      "metadata": {
        "id": "E1AKoOLDFG0P"
      }
    },
    {
      "cell_type": "markdown",
      "source": [
        "##Lighting Datamodule\n",
        "\n",
        "A datamodule encapsulates the five steps involved in data processing in PyTorch:\n",
        "\n",
        "Download / tokenize / process.\n",
        "Clean and (maybe) save to disk.\n",
        "Load inside Dataset.\n",
        "Apply transforms (rotate, tokenize, etc…).\n",
        "Wrap inside a DataLoader."
      ],
      "metadata": {
        "id": "rXbScsq9jpKu"
      }
    },
    {
      "cell_type": "code",
      "source": [
        "!pip install pytorch_lightning"
      ],
      "metadata": {
        "id": "7W5-MrIAkSkp",
        "colab": {
          "base_uri": "https://localhost:8080/"
        },
        "outputId": "0cc93d0d-1413-42d4-e944-d4885831add2"
      },
      "execution_count": null,
      "outputs": [
        {
          "output_type": "stream",
          "name": "stdout",
          "text": [
            "Collecting pytorch_lightning\n",
            "  Downloading pytorch_lightning-2.1.0-py3-none-any.whl (774 kB)\n",
            "\u001b[2K     \u001b[90m━━━━━━━━━━━━━━━━━━━━━━━━━━━━━━━━━━━━━━━━\u001b[0m \u001b[32m774.6/774.6 kB\u001b[0m \u001b[31m16.2 MB/s\u001b[0m eta \u001b[36m0:00:00\u001b[0m\n",
            "\u001b[?25hRequirement already satisfied: numpy>=1.17.2 in /usr/local/lib/python3.10/dist-packages (from pytorch_lightning) (1.23.5)\n",
            "Requirement already satisfied: torch>=1.12.0 in /usr/local/lib/python3.10/dist-packages (from pytorch_lightning) (2.0.1+cu118)\n",
            "Requirement already satisfied: tqdm>=4.57.0 in /usr/local/lib/python3.10/dist-packages (from pytorch_lightning) (4.66.1)\n",
            "Requirement already satisfied: PyYAML>=5.4 in /usr/local/lib/python3.10/dist-packages (from pytorch_lightning) (6.0.1)\n",
            "Requirement already satisfied: fsspec[http]>2021.06.0 in /usr/local/lib/python3.10/dist-packages (from pytorch_lightning) (2023.6.0)\n",
            "Collecting torchmetrics>=0.7.0 (from pytorch_lightning)\n",
            "  Downloading torchmetrics-1.2.0-py3-none-any.whl (805 kB)\n",
            "\u001b[2K     \u001b[90m━━━━━━━━━━━━━━━━━━━━━━━━━━━━━━━━━━━━━━━━\u001b[0m \u001b[32m805.2/805.2 kB\u001b[0m \u001b[31m62.8 MB/s\u001b[0m eta \u001b[36m0:00:00\u001b[0m\n",
            "\u001b[?25hRequirement already satisfied: packaging>=20.0 in /usr/local/lib/python3.10/dist-packages (from pytorch_lightning) (23.2)\n",
            "Requirement already satisfied: typing-extensions>=4.0.0 in /usr/local/lib/python3.10/dist-packages (from pytorch_lightning) (4.5.0)\n",
            "Collecting lightning-utilities>=0.8.0 (from pytorch_lightning)\n",
            "  Downloading lightning_utilities-0.9.0-py3-none-any.whl (23 kB)\n",
            "Requirement already satisfied: requests in /usr/local/lib/python3.10/dist-packages (from fsspec[http]>2021.06.0->pytorch_lightning) (2.31.0)\n",
            "Requirement already satisfied: aiohttp!=4.0.0a0,!=4.0.0a1 in /usr/local/lib/python3.10/dist-packages (from fsspec[http]>2021.06.0->pytorch_lightning) (3.8.6)\n",
            "Requirement already satisfied: filelock in /usr/local/lib/python3.10/dist-packages (from torch>=1.12.0->pytorch_lightning) (3.12.4)\n",
            "Requirement already satisfied: sympy in /usr/local/lib/python3.10/dist-packages (from torch>=1.12.0->pytorch_lightning) (1.12)\n",
            "Requirement already satisfied: networkx in /usr/local/lib/python3.10/dist-packages (from torch>=1.12.0->pytorch_lightning) (3.1)\n",
            "Requirement already satisfied: jinja2 in /usr/local/lib/python3.10/dist-packages (from torch>=1.12.0->pytorch_lightning) (3.1.2)\n",
            "Requirement already satisfied: triton==2.0.0 in /usr/local/lib/python3.10/dist-packages (from torch>=1.12.0->pytorch_lightning) (2.0.0)\n",
            "Requirement already satisfied: cmake in /usr/local/lib/python3.10/dist-packages (from triton==2.0.0->torch>=1.12.0->pytorch_lightning) (3.27.7)\n",
            "Requirement already satisfied: lit in /usr/local/lib/python3.10/dist-packages (from triton==2.0.0->torch>=1.12.0->pytorch_lightning) (17.0.2)\n",
            "Requirement already satisfied: attrs>=17.3.0 in /usr/local/lib/python3.10/dist-packages (from aiohttp!=4.0.0a0,!=4.0.0a1->fsspec[http]>2021.06.0->pytorch_lightning) (23.1.0)\n",
            "Requirement already satisfied: charset-normalizer<4.0,>=2.0 in /usr/local/lib/python3.10/dist-packages (from aiohttp!=4.0.0a0,!=4.0.0a1->fsspec[http]>2021.06.0->pytorch_lightning) (3.3.0)\n",
            "Requirement already satisfied: multidict<7.0,>=4.5 in /usr/local/lib/python3.10/dist-packages (from aiohttp!=4.0.0a0,!=4.0.0a1->fsspec[http]>2021.06.0->pytorch_lightning) (6.0.4)\n",
            "Requirement already satisfied: async-timeout<5.0,>=4.0.0a3 in /usr/local/lib/python3.10/dist-packages (from aiohttp!=4.0.0a0,!=4.0.0a1->fsspec[http]>2021.06.0->pytorch_lightning) (4.0.3)\n",
            "Requirement already satisfied: yarl<2.0,>=1.0 in /usr/local/lib/python3.10/dist-packages (from aiohttp!=4.0.0a0,!=4.0.0a1->fsspec[http]>2021.06.0->pytorch_lightning) (1.9.2)\n",
            "Requirement already satisfied: frozenlist>=1.1.1 in /usr/local/lib/python3.10/dist-packages (from aiohttp!=4.0.0a0,!=4.0.0a1->fsspec[http]>2021.06.0->pytorch_lightning) (1.4.0)\n",
            "Requirement already satisfied: aiosignal>=1.1.2 in /usr/local/lib/python3.10/dist-packages (from aiohttp!=4.0.0a0,!=4.0.0a1->fsspec[http]>2021.06.0->pytorch_lightning) (1.3.1)\n",
            "Requirement already satisfied: MarkupSafe>=2.0 in /usr/local/lib/python3.10/dist-packages (from jinja2->torch>=1.12.0->pytorch_lightning) (2.1.3)\n",
            "Requirement already satisfied: idna<4,>=2.5 in /usr/local/lib/python3.10/dist-packages (from requests->fsspec[http]>2021.06.0->pytorch_lightning) (3.4)\n",
            "Requirement already satisfied: urllib3<3,>=1.21.1 in /usr/local/lib/python3.10/dist-packages (from requests->fsspec[http]>2021.06.0->pytorch_lightning) (2.0.6)\n",
            "Requirement already satisfied: certifi>=2017.4.17 in /usr/local/lib/python3.10/dist-packages (from requests->fsspec[http]>2021.06.0->pytorch_lightning) (2023.7.22)\n",
            "Requirement already satisfied: mpmath>=0.19 in /usr/local/lib/python3.10/dist-packages (from sympy->torch>=1.12.0->pytorch_lightning) (1.3.0)\n",
            "Installing collected packages: lightning-utilities, torchmetrics, pytorch_lightning\n",
            "Successfully installed lightning-utilities-0.9.0 pytorch_lightning-2.1.0 torchmetrics-1.2.0\n"
          ]
        }
      ]
    },
    {
      "cell_type": "markdown",
      "source": [
        "The LightningDataModule is a convenient way to manage data in PyTorch Lightning. It encapsulates training, validation, testing, and prediction dataloaders, as well as any necessary steps for data processing, downloads, and transformations. By using a LightningDataModule, you can easily develop dataset-agnostic models, hot-swap different datasets, and share data splits and transformations across projects."
      ],
      "metadata": {
        "id": "zOLEqmA03auH"
      }
    },
    {
      "cell_type": "markdown",
      "source": [
        "LightningDataModule API\n",
        "\n",
        "To define a DataModule the following methods are used to create train/val/test/predict dataloaders:\n",
        "\n",
        "\n",
        "\n",
        "*   prepare_data (how to download, tokenize, etc…) :\n",
        "Downloading and saving data. Lightning ensures the prepare_data() is called only within a single process on CPU\n",
        "*   setup (how to split, define dataset, etc…):\n",
        "Use setup() for operations you might want to perform on every GPU.\n",
        "\n",
        "*  train_dataloader\n",
        "*  val_dataloader\n",
        "*  test_dataloader\n",
        "*  predict_dataloader"
      ],
      "metadata": {
        "id": "7Zq40OfR39iT"
      }
    },
    {
      "cell_type": "code",
      "source": [
        "import pytorch_lightning as pl\n",
        "from torch.utils.data import random_split, DataLoader\n",
        "import torchvision\n",
        "from torchvision.datasets import CIFAR10\n",
        "from torchvision import transforms\n",
        "\n",
        "class CIFAR10DataModule(pl.LightningDataModule):\n",
        "    def __init__(self, data_dir: str = \"./\"):\n",
        "        super().__init__()\n",
        "        self.data_dir = data_dir\n",
        "        self.transform = transforms.Compose([\n",
        "            transforms.ToTensor(),\n",
        "            transforms.Normalize((0.5, 0.5, 0.5), (0.5, 0.5, 0.5))])\n",
        "\n",
        "        self.dims = (3, 32, 32)\n",
        "        self.num_classes = 10\n",
        "\n",
        "    def prepare_data(self):\n",
        "        # download\n",
        "        torchvision.datasets.CIFAR10(self.data_dir, train=True, download=True)\n",
        "        torchvision.datasets.CIFAR10(self.data_dir, train=False, download=True)\n",
        "\n",
        "    def setup(self, stage=None):\n",
        "\n",
        "        # Assign train/val datasets for use in dataloaders\n",
        "        if stage == \"fit\" or stage is None:\n",
        "            cifar_full =  torchvision.datasets.CIFAR10(self.data_dir, train=True, transform=self.transform)\n",
        "            self.cifar_train, self.cifar_val = torch.utils.data.random_split(cifar_full, [45000, 5000])\n",
        "\n",
        "        # Assign test dataset for use in dataloader(s)\n",
        "        if stage == \"test\" or stage is None:\n",
        "            self.cifar_test = torchvision.datasets.CIFAR10(self.data_dir, train=False, transform=self.transform)\n",
        "\n",
        "    def train_dataloader(self):\n",
        "        return torch.utils.data.DataLoader(self.cifar_train, batch_size=BATCH_SIZE)\n",
        "\n",
        "    def val_dataloader(self):\n",
        "        return  torch.utils.data.DataLoader(self.cifar_val, batch_size=BATCH_SIZE)\n",
        "\n",
        "    def test_dataloader(self):\n",
        "        return  torch.utils.data.DataLoader(self.cifar_test, batch_size=BATCH_SIZE)"
      ],
      "metadata": {
        "id": "lEpNY4vOkQa0"
      },
      "execution_count": null,
      "outputs": []
    }
  ]
}